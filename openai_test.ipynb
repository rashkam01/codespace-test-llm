{
 "cells": [
  {
   "cell_type": "code",
   "execution_count": 1,
   "id": "3877f731-f11f-425e-9171-f67c3cfe8e89",
   "metadata": {},
   "outputs": [],
   "source": [
    "import openai"
   ]
  },
  {
   "cell_type": "code",
   "execution_count": 2,
   "id": "a741e839-5078-48f5-92c2-d64060bbdaed",
   "metadata": {},
   "outputs": [],
   "source": [
    "from openai import OpenAI"
   ]
  },
  {
   "cell_type": "code",
   "execution_count": 3,
   "id": "f93e44da-4e9d-458f-aebd-0da211bd18f1",
   "metadata": {},
   "outputs": [],
   "source": [
    "client = OpenAI(api_key='secret-key-here')"
   ]
  },
  {
   "cell_type": "code",
   "execution_count": 4,
   "id": "a94d081b-d72a-472d-a7f9-eac92550c478",
   "metadata": {},
   "outputs": [],
   "source": [
    "import sys"
   ]
  },
  {
   "cell_type": "code",
   "execution_count": 5,
   "id": "cf3c2ca8-c34f-4433-9b02-e9df65707ae8",
   "metadata": {},
   "outputs": [],
   "source": [
    "import os"
   ]
  },
  {
   "cell_type": "code",
   "execution_count": 6,
   "id": "67befd0b-382b-4c8a-abc9-74c6b2f814b0",
   "metadata": {},
   "outputs": [],
   "source": [
    "#os.environ"
   ]
  },
  {
   "cell_type": "code",
   "execution_count": 7,
   "id": "fe9f2ce0-0ce6-4e9b-b46c-037daa79a26f",
   "metadata": {},
   "outputs": [
    {
     "data": {
      "text/plain": [
       "'\\nclient.chat.completions.create(\\n    model=\\'gpt-4o\\',\\n    messages=[{\"role\":\"user\", \"content\":\"is it too late to join the course?\"}]\\n)\\n'"
      ]
     },
     "execution_count": 7,
     "metadata": {},
     "output_type": "execute_result"
    }
   ],
   "source": [
    "'''\n",
    "client.chat.completions.create(\n",
    "    model='gpt-4o',\n",
    "    messages=[{\"role\":\"user\", \"content\":\"is it too late to join the course?\"}]\n",
    ")\n",
    "'''"
   ]
  },
  {
   "cell_type": "code",
   "execution_count": null,
   "id": "66ced588-0f6e-4aee-8b5a-377ed935e987",
   "metadata": {},
   "outputs": [],
   "source": []
  }
 ],
 "metadata": {
  "kernelspec": {
   "display_name": "Python 3 (ipykernel)",
   "language": "python",
   "name": "python3"
  },
  "language_info": {
   "codemirror_mode": {
    "name": "ipython",
    "version": 3
   },
   "file_extension": ".py",
   "mimetype": "text/x-python",
   "name": "python",
   "nbconvert_exporter": "python",
   "pygments_lexer": "ipython3",
   "version": "3.12.1"
  }
 },
 "nbformat": 4,
 "nbformat_minor": 5
}
